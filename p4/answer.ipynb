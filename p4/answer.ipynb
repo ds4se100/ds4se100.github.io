{
 "cells": [
  {
   "cell_type": "markdown",
   "id": "c0755ba0",
   "metadata": {},
   "source": [
    "# 4.0 （準備）"
   ]
  },
  {
   "cell_type": "code",
   "execution_count": null,
   "id": "81350761",
   "metadata": {
    "vscode": {
     "languageId": "shellscript"
    }
   },
   "outputs": [],
   "source": [
    "# jupyter notebookでスクリプトを実行するために先頭に ! がついています\n",
    "!git clone https://github.com/tornadoweb/tornado  \n",
    "!cd tornado\n",
    "!git checkout v6.4.2"
   ]
  },
  {
   "cell_type": "markdown",
   "id": "dabcbdc5",
   "metadata": {},
   "source": [
    "# 4.1"
   ]
  },
  {
   "cell_type": "markdown",
   "id": "cadd41b9",
   "metadata": {},
   "source": [
    "## 入力例"
   ]
  },
  {
   "cell_type": "code",
   "execution_count": 1,
   "id": "78d80693",
   "metadata": {},
   "outputs": [],
   "source": [
    "ex_str_4_1_1 = 'get_file_name'\n",
    "ex_str_4_1_2 = '__foo_bar_'"
   ]
  },
  {
   "cell_type": "markdown",
   "id": "3d4fd487",
   "metadata": {},
   "source": [
    "## 解答例"
   ]
  },
  {
   "cell_type": "code",
   "execution_count": 2,
   "id": "e0ea8c65",
   "metadata": {},
   "outputs": [],
   "source": [
    "def get_tokens_snake_case(s: str) -> list:\n",
    "    return [x for x in s.split('_') if len(x) > 0]"
   ]
  },
  {
   "cell_type": "markdown",
   "id": "9233cc7e",
   "metadata": {},
   "source": [
    "## 出力例"
   ]
  },
  {
   "cell_type": "code",
   "execution_count": 3,
   "id": "56c9931d",
   "metadata": {},
   "outputs": [
    {
     "name": "stdout",
     "output_type": "stream",
     "text": [
      "['get', 'file', 'name']\n",
      "['foo', 'bar']\n"
     ]
    }
   ],
   "source": [
    "print(get_tokens_snake_case(ex_str_4_1_1))\n",
    "print(get_tokens_snake_case(ex_str_4_1_2))"
   ]
  },
  {
   "cell_type": "markdown",
   "id": "5d6401fa",
   "metadata": {},
   "source": [
    "# 4.2"
   ]
  },
  {
   "cell_type": "markdown",
   "id": "d8d98443",
   "metadata": {},
   "source": [
    "## 入力例"
   ]
  },
  {
   "cell_type": "code",
   "execution_count": 4,
   "id": "9834bbba",
   "metadata": {},
   "outputs": [],
   "source": [
    "ex_str_4_2_1 = 'bin2hex'\n",
    "ex_str_4_2_2 = 'encode2base64'\n",
    "ex_str_4_2_3 = 'base64str'"
   ]
  },
  {
   "cell_type": "markdown",
   "id": "18a61625",
   "metadata": {},
   "source": [
    "## 解答例"
   ]
  },
  {
   "cell_type": "code",
   "execution_count": 5,
   "id": "9247f9b4",
   "metadata": {},
   "outputs": [],
   "source": [
    "import re\n",
    "def get_tokens_divided_by_numbers(s: str) -> list:\n",
    "    return [x for x in re.split(r'\\d+', s) if len(x) > 0]"
   ]
  },
  {
   "cell_type": "markdown",
   "id": "6f606a6c",
   "metadata": {},
   "source": [
    "## 出力例"
   ]
  },
  {
   "cell_type": "code",
   "execution_count": 6,
   "id": "89fe35dd",
   "metadata": {},
   "outputs": [
    {
     "name": "stdout",
     "output_type": "stream",
     "text": [
      "['bin', 'hex']\n",
      "['encode', 'base']\n",
      "['base', 'str']\n"
     ]
    }
   ],
   "source": [
    "print(get_tokens_divided_by_numbers(ex_str_4_2_1))\n",
    "print(get_tokens_divided_by_numbers(ex_str_4_2_2))\n",
    "print(get_tokens_divided_by_numbers(ex_str_4_2_3))"
   ]
  },
  {
   "cell_type": "markdown",
   "id": "46e5a567",
   "metadata": {},
   "source": [
    "# 4.3"
   ]
  },
  {
   "cell_type": "markdown",
   "id": "14dc53ec",
   "metadata": {},
   "source": [
    "## 入力例"
   ]
  },
  {
   "cell_type": "code",
   "execution_count": 7,
   "id": "b2c50264",
   "metadata": {},
   "outputs": [],
   "source": [
    "ex_str_4_3_1 = 'getFileName'\n",
    "ex_str_4_3_2 = 'loadJSON'\n",
    "ex_str_4_3_3 = 'loadJSONData'"
   ]
  },
  {
   "cell_type": "markdown",
   "id": "fc763d43",
   "metadata": {},
   "source": [
    "## 解答例"
   ]
  },
  {
   "cell_type": "code",
   "execution_count": 8,
   "id": "bb2eb46a",
   "metadata": {},
   "outputs": [],
   "source": [
    "import re\n",
    "def get_tokens_camel_case(s: str) -> list:\n",
    "    tokens = []\n",
    "    token = ''\n",
    "    continue_upper = False\n",
    "    for c in s:\n",
    "        if c.isupper():\n",
    "            if len(token) > 0 and not continue_upper:\n",
    "                tokens.append(token)\n",
    "                token = c\n",
    "            else:\n",
    "                token += c\n",
    "            continue_upper = True\n",
    "        else:\n",
    "            continue_upper = False\n",
    "            token += c\n",
    "    if len(token) > 0:\n",
    "        tokens.append(token)\n",
    "    return tokens"
   ]
  },
  {
   "cell_type": "markdown",
   "id": "636eaa5a",
   "metadata": {},
   "source": [
    "## 出力例"
   ]
  },
  {
   "cell_type": "code",
   "execution_count": 9,
   "id": "a28d6c6f",
   "metadata": {},
   "outputs": [
    {
     "name": "stdout",
     "output_type": "stream",
     "text": [
      "['get', 'File', 'Name']\n",
      "['load', 'JSON']\n",
      "['load', 'JSONData']\n"
     ]
    }
   ],
   "source": [
    "print(get_tokens_camel_case(ex_str_4_3_1))\n",
    "print(get_tokens_camel_case(ex_str_4_3_2))\n",
    "print(get_tokens_camel_case(ex_str_4_3_3))"
   ]
  },
  {
   "cell_type": "markdown",
   "id": "737dc94f",
   "metadata": {},
   "source": [
    "# 4.4"
   ]
  },
  {
   "cell_type": "markdown",
   "id": "2ee160f9",
   "metadata": {},
   "source": [
    "## 入力例"
   ]
  },
  {
   "cell_type": "code",
   "execution_count": 10,
   "id": "ee9b0554",
   "metadata": {},
   "outputs": [],
   "source": [
    "ex_str_4_4_1 = 'get_file_name'\n",
    "ex_str_4_4_2 = 'getFileName'\n",
    "ex_str_4_4_3 = 'dataDict2JSON_file'"
   ]
  },
  {
   "cell_type": "markdown",
   "id": "4a82daa1",
   "metadata": {},
   "source": [
    "## 解答例"
   ]
  },
  {
   "cell_type": "code",
   "execution_count": 11,
   "id": "72c1a2b1",
   "metadata": {},
   "outputs": [],
   "source": [
    "def flatten(l: list) -> list:\n",
    "    return sum(l, []) # listのlistを展開する方法を検索するとすぐ出てくる\n",
    "\n",
    "def get_tokens(s: str) -> list:\n",
    "    tokens = get_tokens_snake_case(s)\n",
    "\n",
    "    tokens = [get_tokens_divided_by_numbers(token) for token in tokens]\n",
    "    tokens = flatten(tokens)\n",
    "\n",
    "    tokens = [get_tokens_camel_case(token) for token in tokens]\n",
    "    tokens = flatten(tokens)\n",
    "\n",
    "    return tokens"
   ]
  },
  {
   "cell_type": "markdown",
   "id": "1d516e48",
   "metadata": {},
   "source": [
    "## 出力例"
   ]
  },
  {
   "cell_type": "code",
   "execution_count": 12,
   "id": "fe16f32b",
   "metadata": {},
   "outputs": [
    {
     "name": "stdout",
     "output_type": "stream",
     "text": [
      "['get', 'file', 'name']\n",
      "['get', 'File', 'Name']\n",
      "['data', 'Dict', 'JSON', 'file']\n"
     ]
    }
   ],
   "source": [
    "print(get_tokens(ex_str_4_4_1))\n",
    "print(get_tokens(ex_str_4_4_2))\n",
    "print(get_tokens(ex_str_4_4_3))"
   ]
  },
  {
   "cell_type": "markdown",
   "id": "3b9fbb9b",
   "metadata": {},
   "source": [
    "# 4.5"
   ]
  },
  {
   "cell_type": "markdown",
   "id": "fb5dc96d",
   "metadata": {},
   "source": [
    "## 解答例"
   ]
  },
  {
   "cell_type": "code",
   "execution_count": 13,
   "id": "bb891ece",
   "metadata": {},
   "outputs": [
    {
     "name": "stdout",
     "output_type": "stream",
     "text": [
      "Python ソースファイル数 = 0\n"
     ]
    }
   ],
   "source": [
    "import glob\n",
    "import sys\n",
    "\n",
    "def main(argv):\n",
    "    files = glob.glob(argv[1] + '/**/*.py', recursive=True)\n",
    "    print('Python ソースファイル数 =', len(files))\n",
    "\n",
    "if __name__ == '__main__':\n",
    "    main(sys.argv)"
   ]
  },
  {
   "cell_type": "markdown",
   "id": "231d27d0",
   "metadata": {},
   "source": [
    "## 出力例\n",
    "シェルで確認する場合は上記コードを `4-5.py` などで保存し，\n",
    "```sh\n",
    "python 4-5.py tornado\n",
    "```\n",
    "として実行する．\n"
   ]
  },
  {
   "cell_type": "code",
   "execution_count": 14,
   "id": "4d31dc44",
   "metadata": {},
   "outputs": [
    {
     "name": "stdout",
     "output_type": "stream",
     "text": [
      "Python ソースファイル数 = 108\n"
     ]
    }
   ],
   "source": [
    "main(['python 4-5.py', 'tornado'])"
   ]
  },
  {
   "cell_type": "markdown",
   "id": "d884f281",
   "metadata": {},
   "source": [
    "# 4.6"
   ]
  },
  {
   "cell_type": "markdown",
   "id": "c6a77523",
   "metadata": {},
   "source": [
    "## 解答例"
   ]
  },
  {
   "cell_type": "code",
   "execution_count": 15,
   "id": "b08eb0b9",
   "metadata": {},
   "outputs": [],
   "source": [
    "import glob\n",
    "import sys\n",
    "from pathlib import Path\n",
    "\n",
    "\n",
    "def main(argv):\n",
    "    files = glob.glob(argv[1] + '/**/*.py', recursive=True)\n",
    "    abs_files = [ Path(f).absolute() for f in files ]\n",
    "    abs_files.sort()\n",
    "\n",
    "    for f in abs_files:\n",
    "        print(f)\n",
    "\n",
    "# 相対パスで表示する\n",
    "def main2(argv):\n",
    "    files = glob.glob(argv[1] + '/**/*.py', recursive=True)\n",
    "    abs_files = [ Path(f) for f in files ]\n",
    "    abs_files.sort()\n",
    "\n",
    "    for f in abs_files:\n",
    "        print(f)\n",
    "\n",
    "if __name__ == '__main__':\n",
    "    main(sys.argv)"
   ]
  },
  {
   "cell_type": "markdown",
   "id": "9806ba24",
   "metadata": {},
   "source": [
    "## 出力例\n",
    "シェルで確認する場合は上記コードを `4-5.py` などで保存し，\n",
    "```sh\n",
    "python 4-6.py tornado\n",
    "```\n",
    "として実行する．\n",
    "以下の出力例では相対main2関数を呼び出して相対パスとして出力しています．\n",
    "（絶対パスだと個人的なファイルパスが表示されてしまうため）"
   ]
  },
  {
   "cell_type": "code",
   "execution_count": 16,
   "id": "203c5d5d",
   "metadata": {},
   "outputs": [
    {
     "name": "stdout",
     "output_type": "stream",
     "text": [
      "tornado/demos/blog/blog.py\n",
      "tornado/demos/chat/chatdemo.py\n",
      "tornado/demos/facebook/facebook.py\n",
      "tornado/demos/file_upload/file_receiver.py\n",
      "tornado/demos/file_upload/file_uploader.py\n",
      "tornado/demos/google_auth/main.py\n",
      "tornado/demos/helloworld/helloworld.py\n",
      "tornado/demos/s3server/s3server.py\n",
      "tornado/demos/tcpecho/client.py\n",
      "tornado/demos/tcpecho/server.py\n",
      "tornado/demos/websocket/chatdemo.py\n",
      "tornado/demos/webspider/webspider.py\n",
      "tornado/docs/conf.py\n",
      "tornado/maint/benchmark/benchmark.py\n",
      "tornado/maint/benchmark/chunk_benchmark.py\n",
      "tornado/maint/benchmark/gen_benchmark.py\n",
      "tornado/maint/benchmark/parsing_benchmark.py\n",
      "tornado/maint/benchmark/template_benchmark.py\n",
      "tornado/maint/scripts/custom_fixers/__init__.py\n",
      "tornado/maint/scripts/custom_fixers/fix_future_imports.py\n",
      "tornado/maint/scripts/custom_fixers/fix_unicode_literal.py\n",
      "tornado/maint/scripts/run_fixers.py\n",
      "tornado/maint/scripts/test_resolvers.py\n",
      "tornado/maint/test/cython/cythonapp_test.py\n",
      "tornado/maint/test/cython/pythonmodule.py\n",
      "tornado/maint/test/cython/setup.py\n",
      "tornado/maint/test/mypy/bad.py\n",
      "tornado/maint/test/mypy/good.py\n",
      "tornado/maint/test/mypy/setup.py\n",
      "tornado/maint/test/redbot/red_test.py\n",
      "tornado/maint/test/websocket/client.py\n",
      "tornado/maint/test/websocket/server.py\n",
      "tornado/maint/vm/windows/bootstrap.py\n",
      "tornado/setup.py\n",
      "tornado/tornado/__init__.py\n",
      "tornado/tornado/_locale_data.py\n",
      "tornado/tornado/auth.py\n",
      "tornado/tornado/autoreload.py\n",
      "tornado/tornado/concurrent.py\n",
      "tornado/tornado/curl_httpclient.py\n",
      "tornado/tornado/escape.py\n",
      "tornado/tornado/gen.py\n",
      "tornado/tornado/http1connection.py\n",
      "tornado/tornado/httpclient.py\n",
      "tornado/tornado/httpserver.py\n",
      "tornado/tornado/httputil.py\n",
      "tornado/tornado/ioloop.py\n",
      "tornado/tornado/iostream.py\n",
      "tornado/tornado/locale.py\n",
      "tornado/tornado/locks.py\n",
      "tornado/tornado/log.py\n",
      "tornado/tornado/netutil.py\n",
      "tornado/tornado/options.py\n",
      "tornado/tornado/platform/__init__.py\n",
      "tornado/tornado/platform/asyncio.py\n",
      "tornado/tornado/platform/caresresolver.py\n",
      "tornado/tornado/platform/twisted.py\n",
      "tornado/tornado/process.py\n",
      "tornado/tornado/queues.py\n",
      "tornado/tornado/routing.py\n",
      "tornado/tornado/simple_httpclient.py\n",
      "tornado/tornado/tcpclient.py\n",
      "tornado/tornado/tcpserver.py\n",
      "tornado/tornado/template.py\n",
      "tornado/tornado/test/__init__.py\n",
      "tornado/tornado/test/__main__.py\n",
      "tornado/tornado/test/asyncio_test.py\n",
      "tornado/tornado/test/auth_test.py\n",
      "tornado/tornado/test/autoreload_test.py\n",
      "tornado/tornado/test/circlerefs_test.py\n",
      "tornado/tornado/test/concurrent_test.py\n",
      "tornado/tornado/test/curl_httpclient_test.py\n",
      "tornado/tornado/test/escape_test.py\n",
      "tornado/tornado/test/gen_test.py\n",
      "tornado/tornado/test/gettext_translations/extract_me.py\n",
      "tornado/tornado/test/http1connection_test.py\n",
      "tornado/tornado/test/httpclient_test.py\n",
      "tornado/tornado/test/httpserver_test.py\n",
      "tornado/tornado/test/httputil_test.py\n",
      "tornado/tornado/test/import_test.py\n",
      "tornado/tornado/test/ioloop_test.py\n",
      "tornado/tornado/test/iostream_test.py\n",
      "tornado/tornado/test/locale_test.py\n",
      "tornado/tornado/test/locks_test.py\n",
      "tornado/tornado/test/log_test.py\n",
      "tornado/tornado/test/netutil_test.py\n",
      "tornado/tornado/test/options_test.py\n",
      "tornado/tornado/test/process_test.py\n",
      "tornado/tornado/test/queues_test.py\n",
      "tornado/tornado/test/resolve_test_helper.py\n",
      "tornado/tornado/test/routing_test.py\n",
      "tornado/tornado/test/runtests.py\n",
      "tornado/tornado/test/simple_httpclient_test.py\n",
      "tornado/tornado/test/tcpclient_test.py\n",
      "tornado/tornado/test/tcpserver_test.py\n",
      "tornado/tornado/test/template_test.py\n",
      "tornado/tornado/test/testing_test.py\n",
      "tornado/tornado/test/twisted_test.py\n",
      "tornado/tornado/test/util.py\n",
      "tornado/tornado/test/util_test.py\n",
      "tornado/tornado/test/web_test.py\n",
      "tornado/tornado/test/websocket_test.py\n",
      "tornado/tornado/test/wsgi_test.py\n",
      "tornado/tornado/testing.py\n",
      "tornado/tornado/util.py\n",
      "tornado/tornado/web.py\n",
      "tornado/tornado/websocket.py\n",
      "tornado/tornado/wsgi.py\n"
     ]
    }
   ],
   "source": [
    "main2(['python 4-6.py', 'tornado'])"
   ]
  },
  {
   "cell_type": "markdown",
   "id": "64c21b50",
   "metadata": {},
   "source": [
    "# 4.7"
   ]
  },
  {
   "cell_type": "markdown",
   "id": "590ca770",
   "metadata": {},
   "source": [
    "## 解答例"
   ]
  },
  {
   "cell_type": "code",
   "execution_count": 18,
   "id": "31e22a30",
   "metadata": {},
   "outputs": [],
   "source": [
    "import ast\n",
    "import sys\n",
    "\n",
    "def main(argv):\n",
    "    with open(argv[1], 'r') as f:\n",
    "        print(ast.dump(ast.parse(f.read()), indent=2))\n",
    "\n",
    "def main_no_indent(argv):\n",
    "    with open(argv[1], 'r') as f:\n",
    "        print(ast.dump(ast.parse(f.read())))\n",
    "\n",
    "# 解答例をシェルで実行する場合は下記コードのコメントアウトを解除してください\n",
    "# if __name__ == '__main__':\n",
    "#     main(sys.argv)"
   ]
  },
  {
   "cell_type": "markdown",
   "id": "692fcc2f",
   "metadata": {},
   "source": [
    "## 出力例"
   ]
  },
  {
   "cell_type": "markdown",
   "id": "6d9ef06c",
   "metadata": {},
   "source": [
    "### `indent=2` を指定した場合"
   ]
  },
  {
   "cell_type": "code",
   "execution_count": 19,
   "id": "1053234c",
   "metadata": {},
   "outputs": [
    {
     "name": "stdout",
     "output_type": "stream",
     "text": [
      "Module(\n",
      "  body=[\n",
      "    FunctionDef(\n",
      "      name='computeFact',\n",
      "      args=arguments(\n",
      "        posonlyargs=[],\n",
      "        args=[\n",
      "          arg(arg='n')],\n",
      "        kwonlyargs=[],\n",
      "        kw_defaults=[],\n",
      "        defaults=[]),\n",
      "      body=[\n",
      "        If(\n",
      "          test=Compare(\n",
      "            left=Name(id='n', ctx=Load()),\n",
      "            ops=[\n",
      "              Lt()],\n",
      "            comparators=[\n",
      "              Constant(value=2)]),\n",
      "          body=[\n",
      "            Return(\n",
      "              value=Constant(value=1))],\n",
      "          orelse=[]),\n",
      "        Return(\n",
      "          value=BinOp(\n",
      "            left=Name(id='n', ctx=Load()),\n",
      "            op=Mult(),\n",
      "            right=Call(\n",
      "              func=Name(id='computeFact', ctx=Load()),\n",
      "              args=[\n",
      "                BinOp(\n",
      "                  left=Name(id='n', ctx=Load()),\n",
      "                  op=Sub(),\n",
      "                  right=Constant(value=1))],\n",
      "              keywords=[])))],\n",
      "      decorator_list=[],\n",
      "      type_params=[]),\n",
      "    Expr(\n",
      "      value=Call(\n",
      "        func=Name(id='print', ctx=Load()),\n",
      "        args=[\n",
      "          Call(\n",
      "            func=Name(id='fact', ctx=Load()),\n",
      "            args=[\n",
      "              Constant(value=5)],\n",
      "            keywords=[])],\n",
      "        keywords=[]))],\n",
      "  type_ignores=[])\n"
     ]
    }
   ],
   "source": [
    "main(['python 4-7.py', '4-7-input.py'])"
   ]
  },
  {
   "cell_type": "markdown",
   "id": "343be044",
   "metadata": {},
   "source": [
    "### `indent` を指定しない場合．"
   ]
  },
  {
   "cell_type": "code",
   "execution_count": 20,
   "id": "36400baf",
   "metadata": {},
   "outputs": [
    {
     "name": "stdout",
     "output_type": "stream",
     "text": [
      "Module(body=[FunctionDef(name='computeFact', args=arguments(posonlyargs=[], args=[arg(arg='n')], kwonlyargs=[], kw_defaults=[], defaults=[]), body=[If(test=Compare(left=Name(id='n', ctx=Load()), ops=[Lt()], comparators=[Constant(value=2)]), body=[Return(value=Constant(value=1))], orelse=[]), Return(value=BinOp(left=Name(id='n', ctx=Load()), op=Mult(), right=Call(func=Name(id='computeFact', ctx=Load()), args=[BinOp(left=Name(id='n', ctx=Load()), op=Sub(), right=Constant(value=1))], keywords=[])))], decorator_list=[], type_params=[]), Expr(value=Call(func=Name(id='print', ctx=Load()), args=[Call(func=Name(id='fact', ctx=Load()), args=[Constant(value=5)], keywords=[])], keywords=[]))], type_ignores=[])\n"
     ]
    }
   ],
   "source": [
    "main_no_indent(['python 4-7.py', '4-7-input.py'])"
   ]
  },
  {
   "cell_type": "markdown",
   "id": "8d57547f",
   "metadata": {},
   "source": [
    "# 4.8"
   ]
  },
  {
   "cell_type": "code",
   "execution_count": 21,
   "id": "721bf11a",
   "metadata": {},
   "outputs": [],
   "source": [
    "import ast\n",
    "import sys\n",
    "import re\n",
    "\n",
    "def main(argv):\n",
    "    with open(argv[1], 'r') as f:\n",
    "        dump_str = ast.dump(ast.parse(f.read()))\n",
    "\n",
    "    PATTERN = r\"FunctionDef\\(name='([^']*?)'\"\n",
    "    names = re.findall(PATTERN, dump_str)\n",
    "    print(names)\n",
    "\n",
    "# if __name__ == '__main__':\n",
    "#     main(sys.argv)"
   ]
  },
  {
   "cell_type": "markdown",
   "id": "80f60e14",
   "metadata": {},
   "source": [
    "## 出力例"
   ]
  },
  {
   "cell_type": "code",
   "execution_count": 22,
   "id": "14f684c1",
   "metadata": {},
   "outputs": [
    {
     "name": "stdout",
     "output_type": "stream",
     "text": [
      "['computeFact']\n",
      "None\n"
     ]
    }
   ],
   "source": [
    "func_name_list = main(['python 4-8.py', '4-7-input.py'])\n",
    "print(func_name_list)"
   ]
  },
  {
   "cell_type": "markdown",
   "id": "23811610",
   "metadata": {},
   "source": [
    "# 4.9"
   ]
  },
  {
   "cell_type": "markdown",
   "id": "3fa2c9eb",
   "metadata": {},
   "source": [
    "## 入力例"
   ]
  },
  {
   "cell_type": "code",
   "execution_count": 23,
   "id": "9569e846",
   "metadata": {},
   "outputs": [],
   "source": [
    "text = \"This is a sample sentence for tokenization.\""
   ]
  },
  {
   "cell_type": "markdown",
   "id": "2114158e",
   "metadata": {},
   "source": [
    "## 解答例"
   ]
  },
  {
   "cell_type": "code",
   "execution_count": 24,
   "id": "9b262e88",
   "metadata": {},
   "outputs": [
    {
     "name": "stderr",
     "output_type": "stream",
     "text": [
      "[nltk_data] Downloading package punkt to /Users/kenjif/nltk_data...\n",
      "[nltk_data]   Package punkt is already up-to-date!\n",
      "[nltk_data] Downloading package averaged_perceptron_tagger to\n",
      "[nltk_data]     /Users/kenjif/nltk_data...\n",
      "[nltk_data]   Package averaged_perceptron_tagger is already up-to-\n",
      "[nltk_data]       date!\n",
      "[nltk_data] Downloading package punkt_tab to\n",
      "[nltk_data]     /Users/kenjif/nltk_data...\n",
      "[nltk_data]   Package punkt_tab is already up-to-date!\n",
      "[nltk_data] Downloading package averaged_perceptron_tagger_eng to\n",
      "[nltk_data]     /Users/kenjif/nltk_data...\n",
      "[nltk_data]   Package averaged_perceptron_tagger_eng is already up-to-\n",
      "[nltk_data]       date!\n"
     ]
    },
    {
     "data": {
      "text/plain": [
       "True"
      ]
     },
     "execution_count": 24,
     "metadata": {},
     "output_type": "execute_result"
    }
   ],
   "source": [
    "import nltk\n",
    "from nltk.tokenize import word_tokenize\n",
    "from nltk import pos_tag\n",
    "\n",
    "nltk.download('punkt')\n",
    "nltk.download('averaged_perceptron_tagger')\n",
    "nltk.download('punkt_tab')\n",
    "nltk.download('averaged_perceptron_tagger_eng')"
   ]
  },
  {
   "cell_type": "code",
   "execution_count": 25,
   "id": "a9302c70",
   "metadata": {},
   "outputs": [],
   "source": [
    "def text2pos(text):\n",
    "    tokens = word_tokenize(text)\n",
    "    pos_tags = pos_tag(tokens)\n",
    "    pos_list = []\n",
    "    for token, tag in pos_tags:\n",
    "        pos_list.append(tag)\n",
    "    pos_tuple = tuple(pos_list)\n",
    "    return tokens, pos_tuple"
   ]
  },
  {
   "cell_type": "markdown",
   "id": "dde2ade1",
   "metadata": {},
   "source": [
    "## 出力例"
   ]
  },
  {
   "cell_type": "code",
   "execution_count": 26,
   "id": "1304c85c",
   "metadata": {},
   "outputs": [
    {
     "name": "stdout",
     "output_type": "stream",
     "text": [
      "トークン列：['This', 'is', 'a', 'sample', 'sentence', 'for', 'tokenization', '.']\n",
      "品詞列：('DT', 'VBZ', 'DT', 'JJ', 'NN', 'IN', 'NN', '.')\n"
     ]
    }
   ],
   "source": [
    "tokens, pos_tuple = text2pos(text)\n",
    "print(f\"トークン列：{tokens}\")\n",
    "print(f\"品詞列：{pos_tuple}\")"
   ]
  },
  {
   "cell_type": "markdown",
   "id": "dec642a6",
   "metadata": {},
   "source": [
    "# 4.10"
   ]
  },
  {
   "cell_type": "markdown",
   "id": "1b8b7b67",
   "metadata": {},
   "source": [
    "## 入力例"
   ]
  },
  {
   "cell_type": "code",
   "execution_count": 27,
   "id": "4ffb250d",
   "metadata": {},
   "outputs": [],
   "source": [
    "func_name = 'get_file_name'"
   ]
  },
  {
   "cell_type": "markdown",
   "id": "915adcc8",
   "metadata": {},
   "source": [
    "## 解答例"
   ]
  },
  {
   "cell_type": "code",
   "execution_count": 28,
   "id": "9a8094bf",
   "metadata": {},
   "outputs": [],
   "source": [
    "def token2pos(tokens):\n",
    "    pos_tags = pos_tag(tokens)\n",
    "    pos_list = []\n",
    "    for token, tag in pos_tags:\n",
    "        pos_list.append(tag)\n",
    "    pos_tuple = tuple(pos_list)\n",
    "    return pos_tuple"
   ]
  },
  {
   "cell_type": "markdown",
   "id": "397490cf",
   "metadata": {},
   "source": [
    "## 出力例"
   ]
  },
  {
   "cell_type": "code",
   "execution_count": 29,
   "id": "922c52fd",
   "metadata": {},
   "outputs": [
    {
     "name": "stdout",
     "output_type": "stream",
     "text": [
      "('VB', 'NN', 'NN')\n"
     ]
    }
   ],
   "source": [
    "pos_tuple = token2pos(get_tokens(func_name))\n",
    "print(pos_tuple)"
   ]
  },
  {
   "cell_type": "markdown",
   "id": "f192d2b4",
   "metadata": {},
   "source": [
    "# 4.11"
   ]
  },
  {
   "cell_type": "markdown",
   "id": "9197f984",
   "metadata": {},
   "source": [
    "## 解答例"
   ]
  },
  {
   "cell_type": "code",
   "execution_count": 30,
   "id": "4442256c",
   "metadata": {},
   "outputs": [],
   "source": [
    "from collections import Counter\n",
    "\n",
    "def display_pos_pattern_ranking(func_name_list):\n",
    "    pos_tuple_list = []\n",
    "    for func_name in func_name_list:\n",
    "        tokens = get_tokens(func_name)\n",
    "        pos_tuple = token2pos(tokens)\n",
    "        pos_tuple_list.append(pos_tuple)\n",
    "\n",
    "    counter = Counter(pos_tuple for pos_tuple in pos_tuple_list)\n",
    "\n",
    "    ranking = counter.most_common(5)\n",
    "\n",
    "    for rank, (item, count) in enumerate(ranking, 1):\n",
    "        print(f\"{rank}位: {list(item)}({count}回）\")"
   ]
  },
  {
   "cell_type": "markdown",
   "id": "b5bdd2d7",
   "metadata": {},
   "source": [
    "## 出力例"
   ]
  },
  {
   "cell_type": "code",
   "execution_count": 31,
   "id": "888dd5de",
   "metadata": {},
   "outputs": [
    {
     "name": "stdout",
     "output_type": "stream",
     "text": [
      "Counter({'get': 167, '__init__': 137, 'f': 54, 'get_app': 51, 'setUp': 50, 'initialize': 46, 'tearDown': 36, 'get_handlers': 35, 'post': 27, 'close': 24, 'prepare': 23, 'main': 22, 'get_app_kwargs': 19, 'on_connection_close': 16, 'data_received': 16, 'finish': 16, 'render': 15, 'get_http_client': 15, 'callback': 14, 'on_message': 13, 'headers_received': 12, 'generate': 12, 'handle_stream': 11, 'get_httpserver_options': 11, 'open': 10, '__repr__': 10, '__str__': 9, 'resolve': 9, 'put': 8, 'start': 8, 'run': 7, '__enter__': 7, '__exit__': 7, 'configurable_base': 7, 'configurable_default': 7, 'connect': 7, '_make_client_iostream': 7, '__getattr__': 6, 'wrapper': 6, 'fetch': 6, 'start_request': 6, 'fileno': 6, 'stop': 6, 'find_handler': 6, 'reverse_url': 6, 'each_child': 6, 'f1': 6, 'body_producer': 6, 'test': 6, 'get_current_user': 5, 'on_close': 5, 'inner': 5, 'write': 5, 'set_nodelay': 5, 'match': 5, 'f2': 5, 'accept_callback': 5, 'log_exception': 5, 'on_ping': 5, 'selected_subprotocol': 5, 'get_compression_options': 4, 'test_native_coroutine': 4, 'compute_etag': 4, 'get_authenticated_user': 4, 'get_auth_http_client': 4, '_oauth_consumer_token': 4, 'wait': 4, '_handle_events': 4, 'utf8': 4, 'to_unicode': 4, '__getitem__': 4, 'add_handler': 4, 'add_callback': 4, 'close_fd': 4, 'write_to_fd': 4, 'read_from_fd': 4, 'on_timeout': 4, 'create_client': 4, 'dummy': 4, 'test_timeout': 4, 'test_types': 4, 'get_url': 4, 'test_default': 4, '_make_server_iostream': 4, 'test_repr': 4, 'flush': 4, 'get_cookie': 4, 'write_error': 4, 'on_pong': 4, 'get_argument': 4, 'get_body_argument': 4, 'get_query_argument': 4, 'write_message': 4, '_log': 3, '__new__': 3, 'test_404': 3, '_oauth_get_user_future': 3, 'future_add_done_callback': 3, 'fetch_impl': 3, 'url_unescape': 3, 'coroutine': 3, 'configure': 3, 'body': 3, '__len__': 3, 'doctests': 3, 'current': 3, '_make_current': 3, 'remove_handler': 3, '_run_callback': 3, '_handle_connect': 3, 'translate': 3, 'pgettext': 3, 'release': 3, '__aenter__': 3, '__aexit__': 3, '__setattr__': 3, 'value': 3, '_init': 3, '_get': 3, '_put': 3, 'process_rule': 3, 'reverse': 3, '_unquote_or_none': 3, 'resolve_path': 3, '_create_template': 3, 'find_named_blocks': 3, 'consume': 3, 'test_gzip': 3, 'test_copy': 3, 'fetch_json': 3, 'test_100_continue': 3, 'decode_argument': 3, 'head': 3, 'compress': 3, 'sync_func': 3, 'get_http_port': 3, 'make_iostream_pair': 3, 'test_order': 3, 'get_protocol': 3, 'test_simple': 3, 'upper': 3, 'get_server_compression_options': 3, 'get_client_compression_options': 3, 'verify_wire_bytes': 3, 'mask': 3, 'get_executor': 3, 'gen_test': 3, 'decompress': 3, 'current_user': 3, 'on_ws_connection_close': 3, 'execute': 2, 'delete': 2, 'worker': 2, 'transform': 2, 'get_allowed_errors': 2, 'test_redirect': 2, 'test_post': 2, 'test_chunked': 2, 'test_strong_etag_match': 2, 'test_multiple_strong_etag_match': 2, 'test_strong_etag_not_match': 2, 'test_multiple_strong_etag_not_match': 2, 'test_wildcard_etag': 2, 'test_weak_etag_match': 2, 'test_multiple_weak_etag_match': 2, 'test_weak_etag_not_match': 2, 'test_multiple_weak_etag_not_match': 2, 'authenticate_redirect': 2, 'authorize_redirect': 2, '_oauth_request_token_url': 2, 'submit': 2, 'shutdown': 2, 'copy': 2, '_set_timeout': 2, '_process_queue': 2, 'done': 2, '__aiter__': 2, '__anext__': 2, 'timeout_callback': 2, 'read_response': 2, 'set_close_callback': 2, 'detach': 2, 'write_headers': 2, 'make_client': 2, '__del__': 2, 'headers': 2, '_cleanup': 2, 'parse': 2, '__setitem__': 2, '__iter__': 2, 'cookies': 2, 'install': 2, '_clear_current_hook': 2, 'update_handler': 2, 'call_at': 2, 'remove_timeout': 2, 'add_callback_from_signal': 2, 'run_in_executor': 2, 'set_default_executor': 2, 'get_fd_error': 2, 'reading': 2, 'writing': 2, '_handle_read': 2, '_handle_write': 2, '_is_connreset': 2, 'set': 2, 'clear': 2, 'acquire': 2, 'define': 2, 'parse_command_line': 2, 'parse_config_file': 2, 'print_help': 2, 'add_parse_callback': 2, 'add_reader': 2, 'add_writer': 2, 'remove_reader': 2, 'remove_writer': 2, 'get_target_delegate': 2, '_remove_timeout': 2, '_on_timeout': 2, '_handle_exception': 2, 'listen': 2, 'reset': 2, 'test_future': 2, 'test_async_await': 2, 'infinite_coro': 2, 'do_something': 2, '_clear_representation_headers': 2, 'patch': 2, 'method': 2, 'test_future_interface': 2, 'stop_server': 2, 'get_ssl_options': 2, 'test_error_logging': 2, 'check_type': 2, 'test_small_headers': 2, 'test_large_headers': 2, 'test_small_body': 2, 'handle_request': 2, 'target': 2, 'handle_connection': 2, 'mixin_get_app': 2, 'produce': 2, 'test_connection_refused': 2, 'test_non_ascii_name': 2, 'test_wait_timeout': 2, 'test_garbage_collection': 2, 'test_acquire_timeout': 2, 'test_release_unacquired': 2, 'test_context_manager_misuse': 2, 'filter': 2, 'get_http_server': 2, 'test_connect_timeout': 2, 'test_large_body': 2, 'test_no_inherit_future': 2, 'test_gen': 2, 'test_other_return': 2, 'fn': 2, 'set_cookie': 2, 'test_round_trip': 2, 'create_template_loader': 2, 'get_login_url': 2, 'test_static_url': 2, 'test_serve': 2, 'make_static_url': 2, 'parse_url_path': 2, 'get_absolute_path': 2, 'validate_absolute_path': 2, 'get_content': 2, 'get_content_size': 2, 'get_modified_time': 2, 'get_version': 2, 'get_user_locale': 2, 'get_template_namespace': 2, 'other': 2, 'validate': 2, 'get_token': 2, 'cookie_headers': 2, 'test_xsrf_fail_no_token': 2, 'test_xsrf_fail_body_no_cookie': 2, 'test_xsrf_success_post_body': 2, 'set_default_headers': 2, 'select_subprotocol': 2, 'max_message_size': 2, 'test_concurrent_barrier': 2, 'test_concurrent_streaming_barrier': 2, '_initialize': 2, 'create_signed_value': 2, 'render_string': 2, '_break_cycles': 2, 'locale': 2, 'check_xsrf_cookie': 2, '__call__': 2, 'transform_first_chunk': 2, 'transform_chunk': 2, 'embedded_javascript': 2, 'javascript_files': 2, 'embedded_css': 2, 'css_files': 2, 'html_head': 2, 'html_body': 2, 'ping_interval': 2, 'ping_timeout': 2, 'ping': 2, 'get_websocket_protocol': 2, 'is_closing': 2, 'accept_connection': 2, 'write_ping': 2, '_process_server_headers': 2, 'start_pinging': 2, '_receive_frame_loop': 2, 'maybe_create_tables': 1, 'row_to_obj': 1, 'query': 1, 'queryone': 1, 'any_author_exists': 1, 'get_messages_since': 1, 'add_message': 1, 'make_app': 1, 'multipart_producer': 1, 'raw_producer': 1, 'render_xml': 1, '_render_parts': 1, '_object_path': 1, 'send_message': 1, 'update_cache': 1, 'send_updates': 1, 'get_links_from_url': 1, 'remove_fragment': 1, 'get_links': 1, 'handle_starttag': 1, 'fetch_url': 1, 'missing_reference_handler': 1, 'setup': 1, 'e2': 1, 'e1': 1, 'c2': 1, 'c1': 1, 'headers_split_re': 1, 'headers_split_simple': 1, 'headers_parse_re': 1, 'headers_parse_simple': 1, 'run_headers_split': 1, 'run_headers_full': 1, 'is_docstring': 1, 'start_tree': 1, 'new_future_import': 1, 'finish_tree': 1, 'test_decorated_coroutine': 1, 'test_arg_replacer_function': 1, 'test_arg_replacer_method': 1, 'hello': 1, 'get_allowed_warnings': 1, 'check_url': 1, 'run_redbot': 1, 'work': 1, 'test_hello': 1, 'test_static': 1, 'test_static_versioned_url': 1, 'test_permanent_redirect': 1, 'run_tests': 1, 'download_to_cache': 1, '_openid_args': 1, '_on_authentication_verified': 1, 'get_ax_arg': 1, '_on_request_token': 1, '_oauth_access_token_url': 1, '_oauth_request_parameters': 1, 'oauth2_request': 1, 'twitter_request': 1, 'get_google_oauth_settings': 1, 'facebook_request': 1, '_oauth_signature': 1, '_oauth10a_signature': 1, '_oauth_escape': 1, '_oauth_parse_response': 1, 'watch': 1, 'add_reload_hook': 1, '_reload_on_update': 1, '_check_file': 1, '_reload': 1, 'is_future': 1, 'run_on_executor': 1, 'run_on_executor_decorator': 1, 'chain_future': 1, 'future_set_result_unless_cancelled': 1, 'future_set_exception_unless_cancelled': 1, 'future_set_exc_info': 1, '_handle_socket': 1, '_handle_timeout': 1, '_handle_force_timeout': 1, '_finish_pending_requests': 1, '_finish': 1, 'handle_callback_exception': 1, '_curl_create': 1, '_curl_setup_request': 1, 'write_function': 1, 'ioctl': 1, '_curl_header_callback': 1, '_curl_debug': 1, 'xhtml_escape': 1, 'xhtml_unescape': 1, 'json_encode': 1, 'json_decode': 1, 'squeeze': 1, 'url_escape': 1, 'parse_qs_bytes': 1, 'recursive_unicode': 1, 'linkify': 1, 'make_link': 1, '_value_from_stopiteration': 1, '_create_future': 1, '_fake_ctx_run': 1, 'is_coroutine_function': 1, 'next': 1, '_done_callback': 1, '_return_result': 1, 'multi': 1, 'multi_future': 1, 'maybe_future': 1, 'with_timeout': 1, 'error_callback': 1, 'sleep': 1, 'result': 1, 'handle_yield': 1, 'handle_exception': 1, '_wrap_awaitable': 1, 'convert_yielded': 1, '_read_message': 1, '_clear_callbacks': 1, '_on_connection_close': 1, 'set_body_timeout': 1, 'set_max_body_size': 1, '_format_chunk': 1, '_on_write_complete': 1, '_can_keep_alive': 1, '_finish_request': 1, '_parse_headers': 1, '_read_body': 1, '_read_fixed_body': 1, '_read_chunked_body': 1, '_read_body_until_close': 1, 'start_serving': 1, '_server_request_loop': 1, 'parse_int': 1, 'parse_hex_int': 1, 'is_transfer_encoding_chunked': 1, '_async_clients': 1, 'handle_response': 1, 'rethrow': 1, 'close_all_connections': 1, '_apply_xheaders': 1, '_unapply_xheaders': 1, '_normalize_header': 1, 'add': 1, 'get_list': 1, 'get_all': 1, 'parse_line': 1, '__delitem__': 1, 'full_url': 1, 'request_time': 1, 'get_ssl_certificate': 1, '_parse_body': 1, 'url_concat': 1, '_parse_request_range': 1, '_get_content_range': 1, '_int_or_none': 1, 'parse_body_arguments': 1, 'parse_multipart_form_data': 1, 'format_timestamp': 1, 'parse_request_start_line': 1, 'parse_response_start_line': 1, '_parseparam': 1, '_parse_header': 1, '_encode_header': 1, 'encode_username_password': 1, 'split_host_and_port': 1, 'qs_to_qsl': 1, '_unquote_replace': 1, '_unquote_cookie': 1, 'parse_cookie': 1, 'instance': 1, 'clear_instance': 1, 'make_current': 1, 'clear_current': 1, '_clear_current': 1, 'run_sync': 1, 'time': 1, 'add_timeout': 1, 'call_later': 1, 'spawn_callback': 1, 'add_future': 1, '_discard_future_result': 1, 'split_fd': 1, '_register_task': 1, '_unregister_task': 1, '__lt__': 1, '__le__': 1, 'is_running': 1, '_run': 1, '_schedule_next': 1, '_update_next': 1, 'append': 1, 'peek': 1, 'advance': 1, 'read_until_regex': 1, 'read_until': 1, 'read_bytes': 1, 'read_into': 1, 'read_until_close': 1, '_signal_closed': 1, 'closed': 1, '_read_to_buffer_loop': 1, '_start_read': 1, '_finish_read': 1, '_try_inline_read': 1, '_read_to_buffer': 1, '_read_from_buffer': 1, '_find_read_pos': 1, '_check_max_bytes': 1, '_consume': 1, '_check_closed': 1, '_maybe_add_error_listener': 1, '_add_io_state': 1, 'start_tls': 1, '_do_ssl_handshake': 1, '_finish_ssl_connect': 1, 'wait_for_handshake': 1, 'set_default_locale': 1, 'load_translations': 1, 'load_gettext_translations': 1, 'get_supported_locales': 1, 'get_closest': 1, 'format_date': 1, 'format_day': 1, 'list': 1, 'friendly_number': 1, '_garbage_collect': 1, 'notify': 1, 'notify_all': 1, 'is_set': 1, '_stderr_supports_color': 1, '_safe_unicode': 1, 'format': 1, 'enable_pretty_logging': 1, 'define_logging_options': 1, 'bind_sockets': 1, 'bind_unix_socket': 1, 'add_accept_handler': 1, 'accept_handler': 1, 'is_valid_ip': 1, '_resolve_addr': 1, '_create_threadpool': 1, 'ssl_options_to_context': 1, 'ssl_wrap_socket': 1, '_normalize_name': 1, '__contains__': 1, 'items': 1, 'groups': 1, 'group_dict': 1, 'as_dict': 1, '_help_callback': 1, 'run_parse_callbacks': 1, 'mockable': 1, '__delattr__': 1, '_parse_datetime': 1, '_parse_timedelta': 1, '_parse_bool': 1, '_parse_string': 1, '_atexit_callback': 1, 'to_tornado_future': 1, 'to_asyncio_future': 1, 'get_event_loop': 1, 'thread_manager_anext': 1, '_thread_manager': 1, '_wake_selector': 1, '_consume_waker': 1, '_start_select': 1, '_run_select': 1, '_handle_select': 1, '_handle_event': 1, '__getattribute__': 1, '_sock_state_cb': 1, '_': 1, 'errback': 1, 'cpu_count': 1, '_reseed_random': 1, 'fork_processes': 1, 'start_child': 1, 'task_id': 1, 'set_exit_callback': 1, 'wait_for_exit': 1, 'uninitialize': 1, '_try_cleanup_process': 1, '_set_returncode': 1, 'maxsize': 1, 'qsize': 1, 'empty': 1, 'full': 1, 'put_nowait': 1, 'get_nowait': 1, 'task_done': 1, 'join': 1, '__put_internal': 1, '_consume_expired': 1, '_format': 1, 'add_rules': 1, '_find_groups': 1, '_connection_class': 1, '_handle_request': 1, '_release_fetch': 1, '_get_ssl_options': 1, '_create_connection': 1, '_write_body': 1, '_release': 1, '_should_follow_redirect': 1, '_on_end_request': 1, 'split': 1, 'try_connect': 1, 'on_connect_done': 1, 'set_timeout': 1, 'clear_timeout': 1, 'set_connect_timeout': 1, 'on_connect_timeout': 1, 'clear_timeouts': 1, 'close_streams': 1, '_create_stream': 1, 'add_sockets': 1, 'add_socket': 1, 'bind': 1, '_handle_connection': 1, 'filter_whitespace': 1, '_generate_python': 1, '_get_ancestors': 1, 'load': 1, 'indent_size': 1, 'indent': 1, 'include': 1, 'write_line': 1, 'find': 1, 'remaining': 1, 'raise_parse_error': 1, '_format_code': 1, '_parse': 1, 'asyncio_loop': 1, 'test_asyncio_callback': 1, 'test_asyncio_future': 1, 'test_asyncio_yield_from': 1, 'test_asyncio_adapter': 1, 'tornado_coroutine': 1, 'native_coroutine_without_adapter': 1, 'native_coroutine_with_adapter': 1, 'native_coroutine_with_adapter2': 1, 'test_add_thread_close_idempotent': 1, 'test_ioloop_close_leak': 1, 'test_asyncio_close_leak': 1, 'assert_no_thread_leak': 1, 'dummy_tornado_coroutine': 1, 'test_asyncio_run': 1, 'test_asyncio_manual': 1, 'test_tornado': 1, 'get_event_loop_on_thread': 1, 'get_and_close_event_loop': 1, 'test_asyncio_accessor': 1, 'test_tornado_accessor': 1, 'test_openid_redirect': 1, 'test_openid_get_user': 1, 'test_oauth10_redirect': 1, 'test_oauth10_get_user': 1, 'test_oauth10_request_parameters': 1, 'test_oauth10a_redirect': 1, 'test_oauth10a_redirect_error': 1, 'test_oauth10a_get_user': 1, 'test_oauth10a_request_parameters': 1, 'test_oauth10a_get_user_coroutine_exception': 1, 'test_oauth2_redirect': 1, 'test_facebook_login': 1, 'base_twitter_redirect': 1, 'test_twitter_redirect': 1, 'test_twitter_redirect_gen_coroutine': 1, 'test_twitter_authenticate_redirect': 1, 'test_twitter_get_user': 1, 'test_twitter_show_user': 1, 'test_twitter_show_user_error': 1, 'test_google_login': 1, 'write_files': 1, 'run_subprocess': 1, 'test_reload': 1, 'test_reload_wrapper_preservation': 1, 'test_reload_wrapper_args': 1, 'test_reload_wrapper_until_success': 1, 'find_circular_references': 1, 'assert_no_cycle_garbage': 1, 'test_known_leak': 1, 'run_handler': 1, 'test_sync_handler': 1, 'test_finish_exception_handler': 1, 'test_coro_handler': 1, 'test_async_handler': 1, 'test_run_on_executor': 1, 'test_future_set_result_unless_cancelled': 1, 'test_asyncio_futures': 1, 'test_concurrent_futures': 1, 'process_response': 1, 'capitalize': 1, 'test_future_error': 1, 'test_generator': 1, 'test_generator_error': 1, 'test_no_calling': 1, 'test_call_with_no_args': 1, 'test_call_with_executor': 1, 'test_digest_auth': 1, 'test_custom_reason': 1, 'test_fail_custom_reason': 1, 'test_digest_auth_non_ascii': 1, 'test_linkify': 1, 'test_xhtml_escape': 1, 'test_xhtml_unescape_numeric': 1, 'test_url_escape_unicode': 1, 'test_url_unescape_unicode': 1, 'test_url_escape_quote_plus': 1, 'test_escape_return_types': 1, 'test_json_decode': 1, 'test_json_encode': 1, 'test_squeeze': 1, 'test_recursive_unicode': 1, 'delay': 1, 'async_future': 1, 'async_exception': 1, 'add_one_async': 1, 'test_no_yield': 1, 'test_exception_phase1': 1, 'test_exception_phase2': 1, 'test_bogus_yield': 1, 'test_bogus_yield_tuple': 1, 'test_reuse': 1, 'test_none': 1, 'test_multi': 1, 'test_multi_dict': 1, 'test_multi_delayed': 1, 'test_multi_dict_delayed': 1, 'test_multi_performance': 1, 'test_multi_empty': 1, 'test_multi_future': 1, 'test_multi_future_duplicate': 1, 'test_multi_dict_future': 1, 'test_multi_exceptions': 1, 'test_multi_future_exceptions': 1, 'test_sync_raise_return': 1, 'test_async_raise_return': 1, 'test_sync_raise_return_value': 1, 'test_sync_raise_return_value_tuple': 1, 'test_async_raise_return_value': 1, 'test_async_raise_return_value_tuple': 1, 'test_attributes': 1, 'test_is_coroutine_function': 1, 'test_sync_gen_return': 1, 'test_async_gen_return': 1, 'test_sync_return': 1, 'test_async_return': 1, 'test_async_early_return': 1, 'test_asyncio_sleep_zero': 1, 'test_async_await_mixed_multi_native_future': 1, 'f3': 1, 'test_async_with_timeout': 1, 'test_sync_return_no_value': 1, 'test_async_return_no_value': 1, 'test_sync_raise': 1, 'test_async_raise': 1, 'test_replace_yieldpoint_exception': 1, 'test_swallow_yieldpoint_exception': 1, 'test_moment': 1, 'test_sleep': 1, 'test_py3_leak_exception_context': 1, 'test_coroutine_refcounting': 1, 'inner2': 1, 'test_asyncio_future_debug_info': 1, 'test_asyncio_gather': 1, 'test_coroutine_sequence_handler': 1, 'test_coroutine_unfinished_sequence_handler': 1, 'test_undecorated_coroutines': 1, 'test_async_prepare_error_handler': 1, 'test_native_coroutine_handler': 1, 'test_completes_before_timeout': 1, 'test_fails_before_timeout': 1, 'test_already_resolved': 1, 'test_timeout_concurrent_future': 1, 'test_completed_concurrent_future': 1, 'test_normal_concurrent_future': 1, 'test_empty_iterator': 1, 'test_already_done': 1, 'finish_coroutines': 1, 'test_iterator': 1, 'test_iterator_async_await': 1, 'test_no_ref': 1, 'is_pypy3': 1, 'test_gc': 1, 'tester': 1, 'test_gc_infinite_coro': 1, 'test_gc_infinite_async_await': 1, 'test_multi_moment': 1, 'wait_a_moment': 1, 'native_root': 1, 'gen_root': 1, 'gen_inner': 1, 'thread_inner': 1, 'test_propagate': 1, 'test_reset': 1, 'test_propagate_to_first_yield_with_native_async_function': 1, 'native_async_function': 1, 'asyncSetUp': 1, 'test_http10_no_content_length': 1, 'test_patch_receives_payload': 1, 'test_hello_world': 1, 'test_streaming_callback': 1, 'test_chunked_close': 1, 'test_basic_auth': 1, 'test_basic_auth_explicit_mode': 1, 'test_basic_auth_unicode': 1, 'test_unsupported_auth_mode': 1, 'test_follow_redirect': 1, 'test_redirect_without_location': 1, 'test_redirect_put_with_body': 1, 'test_redirect_put_without_body': 1, 'test_method_after_redirect': 1, 'test_credentials_in_url': 1, 'test_body_encoding': 1, 'test_invalid_gzip': 1, 'test_header_callback': 1, 'header_callback': 1, 'streaming_callback': 1, 'test_configure_defaults': 1, 'test_header_types': 1, 'test_multi_line_headers': 1, 'test_header_encoding': 1, 'test_304_with_content_length': 1, 'test_future_http_error': 1, 'test_future_http_error_no_raise': 1, 'test_reuse_request_from_response': 1, 'test_bind_source_ip': 1, 'test_all_methods': 1, 'test_body_sanity_checks': 1, 'test_put_307': 1, 'test_non_ascii_header': 1, 'test_response_times': 1, 'test_zero_timeout': 1, 'test_error_after_cancel': 1, 'test_header_crlf': 1, 'test_request_set': 1, 'test_default_set': 1, 'test_both_set': 1, 'test_neither_set': 1, 'test_bad_attribute': 1, 'test_defaults_none': 1, 'test_str': 1, 'init_server': 1, 'slow_stop': 1, 'test_sync_client': 1, 'test_sync_client_error': 1, 'test_destructor_log': 1, 'test_headers': 1, 'test_headers_setter': 1, 'test_null_headers_setter': 1, 'test_body': 1, 'test_body_setter': 1, 'test_if_modified_since': 1, 'test_if_modified_since_naive_deprecated': 1, 'test_plain_error': 1, 'test_error_with_response': 1, 'read_stream_body': 1, 'test_ssl': 1, 'test_large_post': 1, 'test_non_ssl_request': 1, 'test_missing_arguments': 1, 'test_missing_key': 1, 'raw_fetch': 1, 'test_multipart_form': 1, 'test_newlines': 1, 'test_query_string_encoding': 1, 'test_empty_query_string': 1, 'test_empty_post_parameters': 1, 'test_double_slash': 1, 'test_post_encodings': 1, 'test_empty_request': 1, 'test_malformed_first_line_response': 1, 'test_malformed_first_line_log': 1, 'test_malformed_headers': 1, 'test_chunked_request_body': 1, 'test_chunked_request_uppercase': 1, 'test_chunked_request_body_invalid_size': 1, 'test_chunked_request_body_duplicate_header': 1, 'test_chunked_request_body_unsupported_transfer_encoding': 1, 'test_chunked_request_body_transfer_encoding_and_content_length': 1, 'test_invalid_content_length': 1, 'test_ip_headers': 1, 'test_trusted_downstream': 1, 'test_scheme_headers': 1, 'test_request_without_xprotocol': 1, 'test_manual_protocol': 1, 'test_unix_socket': 1, 'test_unix_socket_bad_request': 1, 'read_headers': 1, 'test_two_requests': 1, 'test_request_close': 1, 'test_http10': 1, 'test_http10_keepalive': 1, 'test_http10_keepalive_extra_crlf': 1, 'test_pipelined_requests': 1, 'test_pipelined_cancel': 1, 'test_cancel_during_download': 1, 'test_finish_while_closed': 1, 'test_keepalive_chunked': 1, 'test_keepalive_chunked_head_no_body': 1, 'post_gzip': 1, 'test_uncompressed': 1, 'test_gzip_case_insensitive': 1, 'test_gzip_unsupported': 1, 'fetch_chunk_sizes': 1, 'test_regular_body': 1, 'test_compressed_body': 1, 'test_chunked_body': 1, 'test_chunked_compressed': 1, 'test_invalid_output_content_length': 1, 'test_unused_connection': 1, 'test_idle_after_use': 1, 'test_large_body_buffered': 1, 'test_large_body_buffered_chunked': 1, 'test_large_body_streaming': 1, 'test_large_body_streaming_chunked': 1, 'test_large_body_streaming_override': 1, 'test_large_body_streaming_chunked_override': 1, 'test_body_size_override_reset': 1, 'test_legacy_interface': 1, 'form_data_args': 1, 'test_url_concat_no_query_params': 1, 'test_url_concat_encode_args': 1, 'test_url_concat_trailing_q': 1, 'test_url_concat_q_with_no_trailing_amp': 1, 'test_url_concat_trailing_amp': 1, 'test_url_concat_mult_params': 1, 'test_url_concat_no_params': 1, 'test_url_concat_none_params': 1, 'test_url_concat_with_frag': 1, 'test_url_concat_multi_same_params': 1, 'test_url_concat_multi_same_query_params': 1, 'test_url_concat_dict_params': 1, 'test_parsing': 1, 'test_file_upload': 1, 'test_unquoted_names': 1, 'test_special_filenames': 1, 'test_non_ascii_filename': 1, 'test_boundary_starts_and_ends_with_quotes': 1, 'test_missing_headers': 1, 'test_invalid_content_disposition': 1, 'test_line_does_not_end_with_correct_line_break': 1, 'test_content_disposition_header_without_name_parameter': 1, 'test_data_after_final_boundary': 1, 'test_multi_line': 1, 'test_malformed_continuation': 1, 'test_unicode_newlines': 1, 'test_unicode_whitespace': 1, 'test_optional_cr': 1, 'test_pickle_roundtrip': 1, 'test_setdefault': 1, 'test_string': 1, 'check': 1, 'test_unix_time_float': 1, 'test_unix_time_int': 1, 'test_struct_time': 1, 'test_time_tuple': 1, 'test_utc_naive_datetime': 1, 'test_utc_naive_datetime_deprecated': 1, 'test_utc_aware_datetime': 1, 'test_other_aware_datetime': 1, 'test_default_constructor': 1, 'test_body_is_a_byte_string': 1, 'test_repr_does_not_contain_headers': 1, 'test_parse_request_start_line': 1, 'test_python_cookies': 1, 'test_cookie_edgecases': 1, 'test_invalid_cookies': 1, 'test_unquote': 1, 'test_unquote_large': 1, 'test_import_everything': 1, 'test_lazy_import': 1, 'test_import_aliases': 1, 'test_add_callback_return_sequence': 1, 'test_add_callback_wakeup': 1, 'schedule_callback': 1, 'test_add_callback_wakeup_other_thread': 1, 'test_add_timeout_timedelta': 1, 'test_multiple_add': 1, 'test_remove_without_add': 1, 'test_add_callback_from_signal': 1, 'test_add_callback_from_signal_other_thread': 1, 'test_add_callback_while_closing': 1, 'test_read_while_writeable': 1, 'handler': 1, 'test_remove_timeout_after_fire': 1, 'test_remove_timeout_cleanup': 1, 'test_remove_timeout_from_timeout': 1, 't1': 1, 't2': 1, 'test_timeout_with_arguments': 1, 'test_add_timeout_return': 1, 'test_call_at_return': 1, 'test_call_later_return': 1, 'test_close_file_object': 1, 'test_handler_callback_file_object': 1, 'test_mixed_fd_fileobj': 1, 'test_reentrant': 1, 'test_exception_logging': 1, 'test_exception_logging_future': 1, 'test_exception_logging_native_coro': 1, 'test_spawn_callback': 1, 'test_remove_handler_from_handler': 1, 'handle_read': 1, 'test_init_close_race': 1, 'test_explicit_asyncio_loop': 1, 'test_non_current': 1, 'test_force_current': 1, 'test_clear_without_current': 1, 'test_add_future_threads': 1, 'test_run_in_executor_gen': 1, 'test_run_in_executor_native': 1, 'async_wrapper': 1, 'test_set_default_executor': 1, 'test_sync_result': 1, 'test_sync_exception': 1, 'test_async_result': 1, 'test_async_exception': 1, 'test_current': 1, 'simulate_calls': 1, 'test_basic': 1, 'test_overrun': 1, 'test_clock_backwards': 1, 'test_jitter': 1, 'mock_random': 1, 'test_timedelta': 1, 'test_periodic_plain': 1, 'test_periodic_coro': 1, 'test_periodic_async': 1, 'run_python': 1, 'test_asyncio': 1, 'test_asyncio_main': 1, '_server_ssl_options': 1, 'test_connection_closed': 1, 'test_read_until_close': 1, 'test_read_zero_bytes': 1, 'test_write_while_connecting': 1, 'test_future_close_while_reading': 1, 'test_future_read_until_close': 1, 'iostream_pair': 1, 'test_write_zero_bytes': 1, 'test_future_delayed_close_callback': 1, 'test_close_buffered_data': 1, 'test_read_until_close_after_close': 1, 'test_large_read_until': 1, 'test_read_until_with_close_after_second_packet': 1, 'test_read_until_unsatisfied_after_close': 1, 'test_close_callback_with_pending_read': 1, 'test_future_close_callback': 1, 'close_callback': 1, 'test_write_memoryview': 1, 'test_read_bytes_partial': 1, 'test_read_until_max_bytes': 1, 'test_read_until_max_bytes_inline': 1, 'test_read_until_max_bytes_ignores_extra': 1, 'test_read_until_regex_max_bytes': 1, 'test_read_until_regex_max_bytes_inline': 1, 'test_read_until_regex_max_bytes_ignores_extra': 1, 'test_small_reads_from_large_buffer': 1, 'test_small_read_untils_from_large_buffer': 1, 'test_flow_control': 1, 'test_read_into': 1, 'sleep_some': 1, 'test_read_into_partial': 1, 'test_read_into_zero_bytes': 1, 'test_many_mixed_reads': 1, 'test_gaierror': 1, 'test_read_until_close_with_error': 1, 'test_inline_read_error': 1, 'test_async_read_error_logging': 1, 'fake_read_from_fd': 1, 'test_future_write': 1, 'accept': 1, 'client_send_line': 1, 'server_send_line': 1, 'client_start_tls': 1, 'server_start_tls': 1, 'test_start_tls_smtp': 1, 'test_handshake_fail': 1, 'test_check_hostname': 1, 'test_typed_memoryview': 1, 'connect_to_server': 1, 'test_wait_for_handshake_future': 1, 'test_wait_for_handshake_already_waiting_error': 1, 'test_wait_for_handshake_already_connected': 1, 'test_match': 1, 'test_no_match': 1, 'test_check_disabled': 1, 'test_pipe_iostream': 1, 'test_pipe_iostream_big_write': 1, 'to_bytes': 1, 'make_streambuffer': 1, 'check_peek': 1, 'check_append_all_then_skip_all': 1, 'test_small': 1, 'test_large': 1, 'clear_locale_cache': 1, 'test_csv': 1, 'test_csv_bom': 1, 'test_gettext': 1, 'test_format_date': 1, 'test_friendly_number': 1, 'test_list': 1, 'test_format_day': 1, 'record_done': 1, 'loop_briefly': 1, 'test_notify': 1, 'test_notify_1': 1, 'test_notify_n': 1, 'test_notify_all': 1, 'test_wait_timeout_preempted': 1, 'test_notify_n_with_timeout': 1, 'test_notify_all_with_timeout': 1, 'test_nested_notify': 1, 'test_event': 1, 'test_event_timeout': 1, 'test_event_set_multiple': 1, 'test_event_wait_clear': 1, 'test_negative_value': 1, 'test_acquire': 1, 'test_acquire_timeout_preempted': 1, 'test_context_manager': 1, 'test_context_manager_async_await': 1, 'test_context_manager_exception': 1, 'test_context_manager_timeout': 1, 'test_context_manager_timeout_error': 1, 'test_context_manager_contended': 1, 'test_yield_sem': 1, 'test_acquire_release': 1, 'test_acquire_fifo': 1, 'test_acquire_fifo_async_with': 1, 'test_multi_release': 1, 'test_yield_lock': 1, 'ignore_bytes_warning': 1, 'make_handler': 1, 'get_output': 1, 'test_basic_logging': 1, 'test_bytes_logging': 1, 'test_utf8_logging': 1, 'test_bytes_exception_logging': 1, 'test_unicode_logging': 1, 'test_log_file': 1, 'test_log_file_with_timed_rotating': 1, 'test_wrong_rotate_mode_value': 1, 'logs_present': 1, 'test_tornado_default': 1, 'test_disable_command_line': 1, 'test_disable_command_line_case_insensitive': 1, 'test_disable_code_string': 1, 'test_disable_code_none': 1, 'test_disable_override': 1, 'test_localhost': 1, 'test_bad_host': 1, '_failing_getaddrinfo': 1, 'test_resolve_multiaddr': 1, 'test_import': 1, 'test_is_valid_ip': 1, 'test_same_port_allocation': 1, 'test_reuse_port': 1, 'test_parse_command_line': 1, 'test_parse_config_file': 1, 'test_parse_callbacks': 1, 'test_help': 1, 'test_subcommand': 1, 'test_setattr': 1, 'test_setattr_type_check': 1, 'test_setattr_with_callback': 1, '_sample_options': 1, 'test_iter': 1, 'test_getitem': 1, 'test_setitem': 1, 'test_items': 1, 'test_as_dict': 1, 'test_group_dict': 1, 'test_mock_patch': 1, '_define_options': 1, '_check_options_values': 1, 'test_types_with_conf_file': 1, 'test_multiple_string': 1, 'test_multiple_int': 1, 'test_error_redefine': 1, 'test_error_redefine_underscore': 1, 'test_dash_underscore_cli': 1, 'test_dash_underscore_file': 1, 'test_dash_underscore_introspection': 1, 'test_multi_process': 1, 'term_and_wait': 1, 'test_subprocess': 1, 'test_close_stdin': 1, 'test_stderr': 1, 'test_sigchild': 1, 'test_sigchild_future': 1, 'test_sigchild_signal': 1, 'test_wait_for_exit_raise': 1, 'test_wait_for_exit_raise_disabled': 1, 'test_repr_and_str': 1, 'test_maxsize': 1, 'test_blocking_get': 1, 'test_nonblocking_get': 1, 'test_nonblocking_get_exception': 1, 'test_get_with_putters': 1, 'test_blocking_get_wait': 1, 'test_get_timeout': 1, 'test_get_timeout_preempted': 1, 'test_get_clears_timed_out_putters': 1, 'test_get_clears_timed_out_getters': 1, 'test_async_for': 1, 'test_blocking_put': 1, 'test_nonblocking_put_exception': 1, 'test_put_with_getters': 1, 'test_nonblocking_put_with_getters': 1, 'test_blocking_put_wait': 1, 'get_and_discard': 1, 'test_put_timeout': 1, 'test_put_timeout_preempted': 1, 'test_put_clears_timed_out_putters': 1, 'test_put_clears_timed_out_getters': 1, 'test_float_maxsize': 1, 'test_task_done_underflow': 1, 'test_task_done': 1, 'test_task_done_delay': 1, 'test_join_empty_queue': 1, 'test_join_timeout': 1, 'test_producer_consumer': 1, 'consumer': 1, 'producer': 1, 'test_basic_router': 1, 'test_http_method_router': 1, '_get_named_handler': 1, 'add_routes': 1, 'test_custom_router': 1, 'request_callable': 1, 'test_rule_based_router': 1, 'wsgi_app': 1, 'test_wsgi_container': 1, 'test_delegate_not_found': 1, 'all': 1, 'test_runner_factory': 1, 'addSkip': 1, 'set_locale': 1, 'write_response': 1, 'options': 1, 'test_singleton': 1, 'test_connection_limit': 1, 'cb': 1, 'test_redirect_connection_limit': 1, 'test_max_redirects': 1, 'test_header_reuse': 1, 'test_default_user_agent': 1, 'test_see_other_redirect': 1, 'test_request_timeout': 1, 'test_ipv6': 1, 'test_multiple_content_length_accepted': 1, 'test_head_request': 1, 'test_options_request': 1, 'test_no_content': 1, 'test_host_header': 1, 'test_queue_timeout': 1, 'test_no_content_length': 1, 'sync_body_producer': 1, 'async_body_producer': 1, 'test_sync_body_producer_chunked': 1, 'test_sync_body_producer_content_length': 1, 'test_async_body_producer_chunked': 1, 'test_async_body_producer_content_length': 1, 'test_native_body_producer_chunked': 1, 'test_native_body_producer_content_length': 1, 'test_100_continue_early_response': 1, 'test_streaming_follow_redirects': 1, 'test_ssl_options': 1, 'test_ssl_context': 1, 'test_ssl_options_handshake_fail': 1, 'test_ssl_context_handshake_fail': 1, 'test_max_clients': 1, 'respond_100': 1, 'respond_200': 1, 'respond_204': 1, 'test_204_no_content': 1, 'test_204_invalid_content_length': 1, 'test_hostname_mapping': 1, 'test_port_mapping': 1, 'test_resolve_timeout': 1, 'test_chunked_with_content_length': 1, 'start_server': 1, 'skipIfLocalhostV4': 1, 'do_test_connect': 1, 'test_connect_ipv4_ipv4': 1, 'test_connect_ipv4_dual': 1, 'test_connect_ipv6_ipv6': 1, 'test_connect_ipv6_dual': 1, 'test_connect_unspec_ipv4': 1, 'test_connect_unspec_ipv6': 1, 'test_connect_unspec_dual': 1, 'test_refused_ipv4': 1, 'test_source_ip_fail': 1, 'test_source_ip_success': 1, 'test_source_port_fail': 1, 'test_one_family': 1, 'test_mixed': 1, 'create_stream': 1, 'assert_pending': 1, 'resolve_connect': 1, 'assert_connector_streams_closed': 1, 'start_connect': 1, 'test_immediate_success': 1, 'test_immediate_failure': 1, 'test_one_family_second_try': 1, 'test_one_family_second_try_failure': 1, 'test_one_family_second_try_timeout': 1, 'test_two_families_immediate_failure': 1, 'test_two_families_timeout': 1, 'test_success_after_timeout': 1, 'test_all_fail': 1, 'test_one_family_timeout_after_connect_timeout': 1, 'test_one_family_success_before_connect_timeout': 1, 'test_one_family_second_try_after_connect_timeout': 1, 'test_one_family_second_try_failure_before_connect_timeout': 1, 'test_two_family_timeout_before_connect_timeout': 1, 'test_two_family_success_after_timeout': 1, 'test_two_family_timeout_after_connect_timeout': 1, 'test_handle_stream_coroutine_logging': 1, 'test_handle_stream_native_coroutine': 1, 'test_stop_twice': 1, 'test_stop_in_callback': 1, 'run_subproc': 1, 'test_listen_single': 1, 'test_bind_start': 1, 'test_add_sockets': 1, 'test_listen_multi_reuse_port': 1, 'test_bytes': 1, 'test_expressions': 1, 'test_comment': 1, 'test_include': 1, 'test_extends': 1, 'test_relative_load': 1, 'test_escaping': 1, 'test_unicode_template': 1, 'test_unicode_literal_expression': 1, 'test_custom_namespace': 1, 'test_apply': 1, 'test_unicode_apply': 1, 'test_bytes_apply': 1, 'test_if': 1, 'test_if_empty_body': 1, 'test_try': 1, 'test_comment_directive': 1, 'test_break_continue': 1, 'test_break_outside_loop': 1, 'test_break_in_apply': 1, 'test_error_line_number_expression': 1, 'test_error_line_number_directive': 1, 'test_error_line_number_module': 1, 'load_generate': 1, 'test_error_line_number_include': 1, 'test_error_line_number_extends_base_error': 1, 'test_error_line_number_extends_sub_error': 1, 'test_multi_includes': 1, 'test_details': 1, 'test_custom_parse_error': 1, 'test_default_off': 1, 'test_default_on': 1, 'test_unextended_block': 1, 'test_extended_block': 1, 'test_raw_expression': 1, 'test_custom_escape': 1, 'py_escape': 1, 'test_manual_minimize_whitespace': 1, 'test_whitespace_by_filename': 1, 'test_whitespace_by_loader': 1, 'test_whitespace_directive': 1, 'test_utf8_in_file': 1, 'set_environ': 1, 'test_subsequent_wait_calls': 1, 'test_leaked_coroutine': 1, 'test_fetch_segment': 1, 'test_fetch_full_http_url': 1, 'test_undecorated_generator': 1, 'test_undecorated_coroutine': 1, 'test_coro': 1, 'test_undecorated_generator_with_skip': 1, 'test_set_up_tear_down': 1, 'test_tear_down_releases_app_and_http_server': 1, 'test_sync': 1, 'test_async': 1, 'test_no_timeout': 1, 'test_timeout_environment_variable': 1, 'test_long_timeout': 1, 'test_no_timeout_environment_variable': 1, 'test_short_timeout': 1, 'test_with_method_args': 1, 'test_with_args': 1, 'test_with_method_kwargs': 1, 'test_with_kwargs': 1, 'test_native_coroutine_timeout': 1, 'test_success': 1, 'test_failure': 1, '_detect_ipv6': 1, 'refusing_port': 1, 'exec_test': 1, 'ignore_deprecation': 1, 'abstract_base_test': 1, 'setUpClass': 1, 'test_two_arg_exception': 1, 'checkSubclasses': 1, 'test_config_class': 1, 'test_config_str': 1, 'test_config_args': 1, 'test_config_class_args': 1, 'test_config_multi_level': 1, 'test_config_inner_level': 1, 'test_unicode_escapes': 1, 'function': 1, 'test_omitted': 1, 'test_position': 1, 'test_keyword': 1, 'test_timedelta_to_seconds': 1, 'test_import_member': 1, 'test_import_member_unicode': 1, 'test_import_module': 1, 'test_import_module_unicode': 1, 'test_re_unescape': 1, 'test_re_unescape_raises_error_on_invalid_input': 1, 'assert_version_info_compatible': 1, 'test_version_info_compatible': 1, 'test_current_version': 1, 'relpath': 1, 'test_cookie_tampering_future_timestamp': 1, 'test_arbitrary_bytes': 1, 'test_key_version_roundtrip': 1, 'test_key_version_roundtrip_differing_version': 1, 'test_key_version_increment_version': 1, 'test_key_version_invalidate_version': 1, 'test_finish_method_return_future': 1, 'test_render_method_return_future': 1, 'test_set_cookie': 1, 'test_get_cookie': 1, 'test_set_cookie_domain': 1, 'test_cookie_special_char': 1, 'test_set_cookie_overwrite': 1, 'test_set_cookie_max_age': 1, 'test_set_cookie_expires_days': 1, 'test_set_cookie_false_flags': 1, 'test_set_cookie_deprecated': 1, 'test_relative_auth_redirect': 1, 'test_absolute_auth_redirect': 1, 'test_connection_close': 1, 'on_handler_waiting': 1, 'test_group_question_mark': 1, 'test_group_encoding': 1, 'test_slashes': 1, 'test_error': 1, 'describe': 1, 'test_decode_argument': 1, 'test_decode_argument_invalid_unicode': 1, 'test_decode_argument_plus': 1, 'test_reverse_url': 1, 'test_uimodule_unescaped': 1, 'test_uimodule_resources': 1, 'test_optional_path': 1, 'test_multi_header': 1, 'test_web_redirect': 1, 'test_web_redirect_double_slash': 1, 'test_header_injection': 1, 'test_get_argument': 1, 'test_get_query_arguments': 1, 'test_get_body_arguments': 1, 'test_no_gzip': 1, 'test_empty_flush': 1, 'test_write_error': 1, 'test_failed_write_error': 1, 'test_static_files': 1, 'test_static_files_cacheable': 1, 'test_static_compressed_files': 1, 'test_absolute_static_url': 1, 'test_relative_version_exclusion': 1, 'test_absolute_version_exclusion': 1, 'test_include_host_override': 1, '_trigger_include_host_check': 1, 'get_and_head': 1, 'test_static_304_if_modified_since': 1, 'test_static_304_if_none_match': 1, 'test_static_304_etag_modified_bug': 1, 'test_static_304_if_modified_since_invalid': 1, 'test_static_if_modified_since_pre_epoch': 1, 'test_static_if_modified_since_time_zone': 1, 'test_static_etag': 1, 'test_static_with_range': 1, 'test_static_with_range_full_file': 1, 'test_static_with_range_full_past_end': 1, 'test_static_with_range_partial_past_end': 1, 'test_static_with_range_end_edge': 1, 'test_static_with_range_neg_end': 1, 'test_static_with_range_neg_past_start': 1, 'test_static_invalid_range': 1, 'test_static_unsatisfiable_range_zero_suffix': 1, 'test_static_unsatisfiable_range_invalid_start': 1, 'test_static_unsatisfiable_range_end_less_than_start': 1, 'test_static_head': 1, 'test_static_head_range': 1, 'test_static_range_if_none_match': 1, 'test_static_404': 1, 'test_path_traversal_protection': 1, 'test_root_static_path': 1, 'test_static_default_filename': 1, 'test_static_default_redirect': 1, 'test_no_open_redirect': 1, 'test_host_matching': 1, 'test_default_host_matching': 1, 'test_named_urlspec_groups': 1, 'test_clear_header': 1, 'test_204_headers': 1, 'test_304_headers': 1, 'test_status': 1, 'test_date_header': 1, 'test_raise_with_reason': 1, 'test_httperror_str': 1, 'test_httperror_str_from_httputil': 1, 'test_error_xsrf': 1, 'test_404_xsrf': 1, 'assert_compressed': 1, 'test_gzip_static': 1, 'test_gzip_not_requested': 1, 'test_vary_already_present': 1, 'test_vary_already_present_multiple': 1, 'test_pos': 1, 'test_kw': 1, 'test_clear_all_cookies': 1, 'test_http_error': 1, 'test_unknown_error': 1, 'test_known_error': 1, 'test_buggy_log_exception': 1, 'my_ui_method': 1, 'test_ui_method': 1, 'test_catch_error': 1, 'test_set_properties': 1, 'test_get_current_user_is_lazy': 1, 'test_get_current_user_works': 1, 'test_get_current_user_from_ui_module_is_lazy': 1, 'test_get_current_user_from_ui_module_works': 1, 'test_unimplemented_standard_methods': 1, 'test_unimplemented_patch': 1, 'test_unimplemented_other': 1, 'test_standard_methods': 1, 'test_patch': 1, 'test_other': 1, 'test_finish_in_prepare': 1, 'test_403': 1, 'test_handler_by_name': 1, 'test_streaming_body': 1, 'test_early_return': 1, 'test_early_return_with_data': 1, 'test_close_during_upload': 1, 'in_method': 1, 'test_flow_control_fixed_body': 1, 'test_flow_control_chunked_body': 1, 'test_flow_control_compressed_body': 1, 'test_content_length_too_high': 1, 'test_content_length_too_low': 1, 'test_client_close': 1, 'past': 1, 'present': 1, 'test_known_values': 1, 'test_name_swap': 1, 'test_expired': 1, 'test_payload_tampering': 1, 'test_signature_tampering': 1, 'test_non_ascii': 1, 'test_key_versioning_read_write_default_key': 1, 'test_key_versioning_read_write_non_default_key': 1, 'test_key_versioning_invalid_key': 1, 'test_key_version_retrieval': 1, 'test_xsrf_fail_argument_invalid_format': 1, 'test_xsrf_fail_cookie_invalid_format': 1, 'test_xsrf_fail_cookie_no_body': 1, 'test_xsrf_success_short_token': 1, 'test_xsrf_success_non_hex_token': 1, 'test_xsrf_success_query_string': 1, 'test_xsrf_success_header': 1, 'test_distinct_tokens': 1, 'test_cross_user': 1, 'test_refresh_token': 1, 'test_versioning': 1, 'test_xsrf_httponly': 1, 'test_finish_exception': 1, 'test_removeslash': 1, 'test_addslash': 1, '_test_etag': 1, 'test_missing_remote_ip': 1, 'test_listen': 1, 'test_reverse': 1, 'test_non_reversible': 1, 'test_reverse_arguments': 1, 'test_basic_redirect': 1, 'test_redirect_with_argument': 1, 'test_redirect_with_appending_argument': 1, 'test_redirect_pattern': 1, 'test_accept_language': 1, 'test_accept_language_ignore': 1, 'test_accept_language_invalid': 1, 'ws_connect': 1, 'test_http_request': 1, 'test_missing_websocket_key': 1, 'test_bad_websocket_version': 1, 'test_websocket_gen': 1, 'test_websocket_callbacks': 1, 'test_binary_message': 1, 'test_unicode_message': 1, 'test_error_in_closed_client_write_message': 1, 'test_render_message': 1, 'test_error_in_on_message': 1, 'test_websocket_http_fail': 1, 'test_websocket_http_success': 1, 'test_websocket_http_redirect': 1, 'test_websocket_network_fail': 1, 'test_websocket_close_buffered_data': 1, 'test_websocket_headers': 1, 'test_websocket_header_echo': 1, 'test_server_close_reason': 1, 'test_client_close_reason': 1, 'test_write_after_close': 1, 'test_async_prepare': 1, 'test_path_args': 1, 'test_coroutine': 1, 'test_check_origin_valid_no_path': 1, 'test_check_origin_valid_with_path': 1, 'test_check_origin_invalid_partial_url': 1, 'test_check_origin_invalid': 1, 'test_check_origin_invalid_subdomains': 1, 'test_subprotocols': 1, 'test_subprotocols_not_offered': 1, 'test_open_coroutine': 1, 'test_error_in_open': 1, 'test_error_in_async_open': 1, 'test_nodelay': 1, 'test_message_sizes': 1, 'test_size_limit': 1, 'test_mask': 1, 'test_server_ping': 1, 'test_client_ping': 1, 'test_manual_ping': 1, 'test_large_message': 1, 'make_container': 1, 'respond_plain': 1, 'simple_wsgi_app': 1, 'barrier_wsgi_app': 1, 'streaming_barrier_wsgi_app': 1, 'bind_unused_port': 1, 'get_async_test_timeout': 1, 'get_new_ioloop': 1, '__rethrow': 1, '_callTestMethod': 1, 'timeout_func': 1, 'default_ssl_options': 1, 'wrap': 1, 'pre_coroutine': 1, 'post_coroutine': 1, 'setup_with_context_manager': 1, 'unconsumed_tail': 1, 'import_object': 1, 'exec_in': 1, 'raise_exc_info': 1, 'errno_from_exception': 1, '_re_unescape_replacement': 1, 're_unescape': 1, 'configured_class': 1, '_save_configuration': 1, '_restore_configuration': 1, '_getargnames': 1, 'get_old_value': 1, 'replace': 1, 'timedelta_to_seconds': 1, '_websocket_mask_python': 1, 'settings': 1, '_unimplemented_method': 1, 'on_finish': 1, 'set_status': 1, 'get_status': 1, 'set_header': 1, 'add_header': 1, 'clear_header': 1, '_convert_header_value': 1, 'get_arguments': 1, 'get_body_arguments': 1, 'get_query_arguments': 1, '_get_argument': 1, '_get_arguments': 1, 'clear_cookie': 1, 'clear_all_cookies': 1, 'set_signed_cookie': 1, 'get_signed_cookie': 1, 'get_signed_cookie_key_version': 1, 'redirect': 1, 'render_linked_js': 1, 'render_embed_js': 1, 'render_linked_css': 1, 'render_embed_css': 1, 'send_error': 1, 'get_browser_locale': 1, 'get_template_path': 1, 'xsrf_token': 1, '_get_raw_xsrf_token': 1, '_decode_xsrf_token': 1, 'xsrf_form_html': 1, 'static_url': 1, 'require_setting': 1, 'set_etag_header': 1, 'check_etag_header': 1, 'val': 1, '_execute': 1, '_request_summary': 1, '_handle_request_exception': 1, '_ui_module': 1, '_ui_method': 1, 'stream_request_body': 1, '_has_stream_request_body': 1, 'removeslash': 1, 'addslash': 1, 'add_handlers': 1, 'add_transform': 1, '_load_ui_methods': 1, '_load_ui_modules': 1, 'get_handler_delegate': 1, 'log_request': 1, 'set_headers': 1, 'should_return_304': 1, 'get_content_version': 1, '_stat': 1, 'get_content_type': 1, 'set_extra_headers': 1, 'get_cache_time': 1, '_get_cached_version': 1, '_compressible_type': 1, 'authenticated': 1, 'set_resources': 1, '_get_resources': 1, 'format_field': 1, '_get_version': 1, 'decode_signed_value': 1, '_decode_signed_value_v1': 1, '_decode_fields_v2': 1, '_consume_field': 1, '_decode_signed_value_v2': 1, 'get_signature_key_version': 1, '_create_signature_v1': 1, '_create_signature_v2': 1, 'is_absolute': 1, 'check_origin': 1, '_detach_stream': 1, '_raise_not_supported_for_websockets': 1, '_abort': 1, '_create_compressor': 1, '_create_decompressor': 1, '_handle_websocket_headers': 1, 'compute_accept_value': 1, '_challenge_response': 1, '_accept_connection': 1, '_parse_extensions_header': 1, '_get_compressor_options': 1, '_create_compressors': 1, '_write_frame': 1, '_read_bytes': 1, '_receive_frame': 1, '_handle_message': 1, 'periodic_ping': 1, '_on_http_response': 1, 'read_message': 1, '_on_message': 1, 'websocket_connect': 1, 'to_wsgi_str': 1, 'start_response': 1, 'next_chunk': 1, 'environ': 1})\n",
      "1位: ['NN'](644回）\n",
      "2位: ['NN', 'NN'](340回）\n",
      "3位: ['VB'](232回）\n",
      "4位: ['NN', 'NN', 'NN'](231回）\n",
      "5位: ['VB', 'NN'](124回）\n"
     ]
    }
   ],
   "source": [
    "import ast\n",
    "import sys\n",
    "import re\n",
    "\n",
    "def get_all_func_names(dir_path):\n",
    "    files = glob.glob(dir_path + '/**/*.py', recursive=True)\n",
    "    abs_files = [ Path(f).absolute() for f in files ]\n",
    "    abs_files.sort()\n",
    "\n",
    "    func_name_list = []\n",
    "    for file_path in abs_files:\n",
    "        with open(file_path, 'r') as f:\n",
    "            dump_str = ast.dump(ast.parse(f.read()))\n",
    "\n",
    "\n",
    "        PATTERN = r\"FunctionDef\\(name='([^']*?)'\"\n",
    "        names = re.findall(PATTERN, dump_str)\n",
    "        if names:\n",
    "            func_name_list.extend(names)\n",
    "    return func_name_list\n",
    "\n",
    "\n",
    "\n",
    "all_func_names = get_all_func_names('tornado')\n",
    "from collections import Counter\n",
    "## print all function names with count\n",
    "print(Counter(all_func_names))\n",
    "display_pos_pattern_ranking(all_func_names)"
   ]
  }
 ],
 "metadata": {
  "kernelspec": {
   "display_name": "Python 3",
   "language": "python",
   "name": "python3"
  },
  "language_info": {
   "codemirror_mode": {
    "name": "ipython",
    "version": 3
   },
   "file_extension": ".py",
   "mimetype": "text/x-python",
   "name": "python",
   "nbconvert_exporter": "python",
   "pygments_lexer": "ipython3",
   "version": "3.13.1"
  }
 },
 "nbformat": 4,
 "nbformat_minor": 5
}
